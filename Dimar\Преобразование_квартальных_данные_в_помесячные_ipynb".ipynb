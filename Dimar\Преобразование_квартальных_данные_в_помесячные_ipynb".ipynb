{
  "nbformat": 4,
  "nbformat_minor": 0,
  "metadata": {
    "colab": {
      "provenance": [],
      "authorship_tag": "ABX9TyP1wyYikjEqNYfpAuxPxhA0",
      "include_colab_link": true
    },
    "kernelspec": {
      "name": "python3",
      "display_name": "Python 3"
    },
    "language_info": {
      "name": "python"
    }
  },
  "cells": [
    {
      "cell_type": "markdown",
      "metadata": {
        "id": "view-in-github",
        "colab_type": "text"
      },
      "source": [
        "<a href=\"https://colab.research.google.com/github/ras-internship/colabs/blob/main/Dimar%5C%D0%9F%D1%80%D0%B5%D0%BE%D0%B1%D1%80%D0%B0%D0%B7%D0%BE%D0%B2%D0%B0%D0%BD%D0%B8%D0%B5_%D0%BA%D0%B2%D0%B0%D1%80%D1%82%D0%B0%D0%BB%D1%8C%D0%BD%D1%8B%D1%85_%D0%B4%D0%B0%D0%BD%D0%BD%D1%8B%D0%B5_%D0%B2_%D0%BF%D0%BE%D0%BC%D0%B5%D1%81%D1%8F%D1%87%D0%BD%D1%8B%D0%B5_ipynb%22.ipynb\" target=\"_parent\"><img src=\"https://colab.research.google.com/assets/colab-badge.svg\" alt=\"Open In Colab\"/></a>"
      ]
    },
    {
      "cell_type": "markdown",
      "source": [
        "Для преобразования данных о ВВП с шагом 1 месяц из файла \"data.xls\", вы можете использовать следующий пример кода на Python. Убедитесь, что у вас установлены библиотеки pandas и openpyxl. Вы можете установить их с помощью следующей команды:\n",
        "\n",
        "Обратите внимание, что вам нужно будет заменить 'Sheet1' на название листа, на котором находятся ваши исходные данные, если оно отличается. Запустите этот код на своем компьютере, и он выполнит преобразование данных о ВВП в временной ряд с шагом 1 месяц и сохранит результаты в новом файле \"gdp_monthly_data.xls\" на листе \"Лист1\"."
      ],
      "metadata": {
        "id": "oMv9BjuRrdPC"
      }
    },
    {
      "cell_type": "code",
      "source": [
        "pip install pandas openpyxl\n"
      ],
      "metadata": {
        "id": "wMlw6xEZsEy5",
        "colab": {
          "base_uri": "https://localhost:8080/"
        },
        "outputId": "799dea3f-0ac6-4f2e-ae8c-d77f0bfb74cb"
      },
      "execution_count": null,
      "outputs": [
        {
          "output_type": "stream",
          "name": "stdout",
          "text": [
            "Looking in indexes: https://pypi.org/simple, https://us-python.pkg.dev/colab-wheels/public/simple/\n",
            "Requirement already satisfied: pandas in /usr/local/lib/python3.9/dist-packages (1.4.4)\n",
            "Requirement already satisfied: openpyxl in /usr/local/lib/python3.9/dist-packages (3.0.10)\n",
            "Requirement already satisfied: python-dateutil>=2.8.1 in /usr/local/lib/python3.9/dist-packages (from pandas) (2.8.2)\n",
            "Requirement already satisfied: pytz>=2020.1 in /usr/local/lib/python3.9/dist-packages (from pandas) (2022.7.1)\n",
            "Requirement already satisfied: numpy>=1.18.5 in /usr/local/lib/python3.9/dist-packages (from pandas) (1.22.4)\n",
            "Requirement already satisfied: et-xmlfile in /usr/local/lib/python3.9/dist-packages (from openpyxl) (1.1.0)\n",
            "Requirement already satisfied: six>=1.5 in /usr/local/lib/python3.9/dist-packages (from python-dateutil>=2.8.1->pandas) (1.16.0)\n"
          ]
        }
      ]
    },
    {
      "cell_type": "code",
      "source": [
        "import pandas as pd\n",
        "import numpy as np\n",
        "from datetime import timedelta\n",
        "from openpyxl import load_workbook\n",
        "\n",
        "# Чтение данных из файла\n",
        "file_path = 'ВВП_стат.xlsx'\n",
        "df = pd.read_excel(file_path, sheet_name='Лист1')\n",
        "print(df)\n",
        "# Вывод имен столбцов\n",
        "print(\"Имена столбцов в DataFrame:\", df.columns)"
      ],
      "metadata": {
        "colab": {
          "base_uri": "https://localhost:8080/"
        },
        "id": "P3Wv8_xA1bud",
        "outputId": "10a7c1df-84ac-4565-959a-5fe0ac66d0c6"
      },
      "execution_count": 62,
      "outputs": [
        {
          "output_type": "stream",
          "name": "stdout",
          "text": [
            "     год        ВВП_год            Q1            Q2            Q3  \\\n",
            "0   1999    4823.000000    901.000000   1102.000000   1373.000000   \n",
            "1   2000    7306.000000   1527.000000   1697.000000   2038.000000   \n",
            "2   2001    8944.000000   1901.000000   2105.000000   2488.000000   \n",
            "3   2002   10831.000000   2262.000000   2529.000000   3013.000000   \n",
            "4   2003   13208.000000   2851.000000   3102.000000   3600.000000   \n",
            "5   2004   17027.000000   3516.000000   3972.000000   4594.000000   \n",
            "6   2005   21610.000000   4459.000000   5078.000000   5845.000000   \n",
            "7   2006   26917.000000   5793.000000   6368.000000   7276.000000   \n",
            "8   2007   33248.000000   6780.000000   7768.000000   8903.000000   \n",
            "9   2008   41277.000000   8878.000000  10238.000000  11542.000000   \n",
            "10  2009   38807.000000   8335.000000   9245.000000  10411.000000   \n",
            "11  2010   46308.000000   9996.000000  10977.000000  12086.000000   \n",
            "12  2011   60114.000837  13024.799539  14434.822306  15745.583567   \n",
            "13  2012   68103.449628  15182.776397  16435.995569  17715.787935   \n",
            "14  2013   72985.701130  16370.002897  17507.881781  19003.469311   \n",
            "15  2014   79030.040075  17311.393635  19044.189388  20544.004177   \n",
            "16  2015   83087.360055  18467.912804  19751.014988  21788.589405   \n",
            "17  2016   85616.083815  18885.121083  20452.234645  22235.115223   \n",
            "18  2017   91843.154241  20586.119060  21917.573773  23718.216151   \n",
            "19  2018  103862.000000  22474.000000  24970.000000  27197.000000   \n",
            "20  2019  109608.000000  24609.000000  26629.000000  28346.000000   \n",
            "21  2020  107658.169200  24852.000000  23682.000000  27769.000000   \n",
            "22  2021  135294.974583  27091.000000  30915.000000  34225.000000   \n",
            "23  2022            NaN  34629.000000  34664.000000  36829.000000   \n",
            "\n",
            "              Q4  \n",
            "0    1447.000000  \n",
            "1    2044.000000  \n",
            "2    2450.000000  \n",
            "3    3027.000000  \n",
            "4    3655.000000  \n",
            "5    4945.000000  \n",
            "6    6228.000000  \n",
            "7    7480.000000  \n",
            "8    9797.000000  \n",
            "9   10619.000000  \n",
            "10  10816.000000  \n",
            "11  13249.000000  \n",
            "12  16908.795427  \n",
            "13  18768.889727  \n",
            "14  20104.347142  \n",
            "15  22130.452874  \n",
            "16  23079.842857  \n",
            "17  24043.612850  \n",
            "18  25621.245234  \n",
            "19  29221.000000  \n",
            "20  30025.000000  \n",
            "21  31088.000000  \n",
            "22  38783.000000  \n",
            "23           NaN  \n",
            "Имена столбцов в DataFrame: Index(['год', 'ВВП_год', 'Q1', 'Q2', 'Q3', 'Q4'], dtype='object')\n"
          ]
        }
      ]
    },
    {
      "cell_type": "code",
      "execution_count": 63,
      "metadata": {
        "id": "woGjTdYsraEf",
        "colab": {
          "base_uri": "https://localhost:8080/"
        },
        "outputId": "671d000f-921e-4bf4-c0c6-a6ff79939d07"
      },
      "outputs": [
        {
          "output_type": "stream",
          "name": "stdout",
          "text": [
            "          Дата           ВВП\n",
            "0   1999-01-01    300.333333\n",
            "1   1999-02-01    300.333333\n",
            "2   1999-03-01    300.333333\n",
            "3   1999-04-01    367.333333\n",
            "4   1999-05-01    367.333333\n",
            "..         ...           ...\n",
            "283 2022-08-01  12276.333333\n",
            "284 2022-09-01  12276.333333\n",
            "285 2022-10-01           NaN\n",
            "286 2022-11-01           NaN\n",
            "287 2022-12-01           NaN\n",
            "\n",
            "[288 rows x 2 columns]\n",
            "Данные ВВП успешно преобразованы в временной ряд с шагом 1 месяц и сохранены в файле gdp_monthly_data.xls\n"
          ]
        }
      ],
      "source": [
        "\n",
        "\n",
        "# Преобразование данных о ВВП в временной ряд с шагом 1 месяц\n",
        "monthly_data = []\n",
        "for index, row in df.iterrows():\n",
        "    year = row['год']\n",
        "    annual_gdp = row['ВВП_год']\n",
        "    quarterly_gdp = [row[f'Q{i + 1}'] for i in range(4)]\n",
        "    for i in range(4):\n",
        "        month_gdp=quarterly_gdp[i]/3\n",
        "        for j in range(3):\n",
        "           month_date = pd.Timestamp(int(year), i * 3 +1+j, 1)\n",
        "           monthly_data.append([month_date, month_gdp])\n",
        "        \n",
        "\n",
        "# Создание нового DataFrame\n",
        "df_monthly = pd.DataFrame(monthly_data, columns=['Дата', 'ВВП'])\n",
        "print(df_monthly)\n",
        "# Запись нового листа в файл\n",
        "output_file_path = 'gdp_monthly_data.xls'\n",
        "with pd.ExcelWriter(output_file_path, engine='openpyxl', mode='w') as writer:\n",
        "    df_monthly.to_excel(writer, sheet_name='Лист1', index=False)\n",
        "\n",
        "print(\"Данные ВВП успешно преобразованы в временной ряд с шагом 1 месяц и сохранены в файле\", output_file_path)\n"
      ]
    }
  ]
}