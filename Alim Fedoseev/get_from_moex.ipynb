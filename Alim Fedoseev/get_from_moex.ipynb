{
  "nbformat": 4,
  "nbformat_minor": 0,
  "metadata": {
    "colab": {
      "provenance": [],
      "authorship_tag": "ABX9TyNOGJ0vE4MJKMEQNI27VlvJ",
      "include_colab_link": true
    },
    "kernelspec": {
      "name": "python3",
      "display_name": "Python 3"
    },
    "language_info": {
      "name": "python"
    }
  },
  "cells": [
    {
      "cell_type": "markdown",
      "metadata": {
        "id": "view-in-github",
        "colab_type": "text"
      },
      "source": [
        "<a href=\"https://colab.research.google.com/github/ras-internship/colabs/blob/main/Alim%20Fedoseev/get_from_moex.ipynb\" target=\"_parent\"><img src=\"https://colab.research.google.com/assets/colab-badge.svg\" alt=\"Open In Colab\"/></a>"
      ]
    },
    {
      "cell_type": "code",
      "execution_count": 5,
      "metadata": {
        "id": "LlHRczTzaa1y"
      },
      "outputs": [],
      "source": [
        "import requests\n",
        "import json\n",
        "import csv\n",
        "\n",
        "def get_jsondata(security, start=0, market='index'):\n",
        "  r = f'https://iss.moex.com/iss/history/engines/stock/markets/{market}/securities/{security.upper()}.json?start={start}'\n",
        "  print(f'request to {r}')\n",
        "  return json.loads(requests.get(r).text)"
      ]
    },
    {
      "cell_type": "code",
      "source": [
        "def store_by_id(item_id, market, columns):\n",
        "  data = get_jsondata(item_id, market=market)\n",
        "  last = int(data['history.cursor']['data'][0][1])\n",
        "\n",
        "  results = [[d[i] for i in columns] for d in data['history']['data']]\n",
        "  for n in range(100,last,100):\n",
        "      data = get_jsondata(item_id, start=n, market=market)\n",
        "      results.extend([[d[i] for i in columns] for d in data['history']['data']])\n",
        "\n",
        "  with open(f'{id}.csv', 'w', newline='') as f:\n",
        "      writer = csv.writer(f, delimiter=';')\n",
        "      writer.writerows(results)"
      ],
      "metadata": {
        "id": "ha_e8m_Qf1cV"
      },
      "execution_count": 8,
      "outputs": []
    },
    {
      "cell_type": "code",
      "source": [
        "ids=[\n",
        "#  ('imoex', 'index', [1,2,5])\n",
        "#  ('rtsi', 'index', [1,2,5])\n",
        "#  ('sber', 'shares', [0,1,11])\n",
        "  ('gazp', 'shares', [0,1,11])\n",
        "]\n",
        "\n",
        "for id in ids:\n",
        "  store_by_id(*id)"
      ],
      "metadata": {
        "colab": {
          "base_uri": "https://localhost:8080/"
        },
        "id": "pOBWfDPLgAHk",
        "outputId": "6134ffb3-dd94-4db1-ba7b-ac9406606ed8"
      },
      "execution_count": 9,
      "outputs": [
        {
          "output_type": "stream",
          "name": "stdout",
          "text": [
            "request to https://iss.moex.com/iss/history/engines/stock/markets/shares/securities/GAZP.json?start=0\n",
            "request to https://iss.moex.com/iss/history/engines/stock/markets/shares/securities/GAZP.json?start=100\n",
            "request to https://iss.moex.com/iss/history/engines/stock/markets/shares/securities/GAZP.json?start=200\n",
            "request to https://iss.moex.com/iss/history/engines/stock/markets/shares/securities/GAZP.json?start=300\n",
            "request to https://iss.moex.com/iss/history/engines/stock/markets/shares/securities/GAZP.json?start=400\n",
            "request to https://iss.moex.com/iss/history/engines/stock/markets/shares/securities/GAZP.json?start=500\n",
            "request to https://iss.moex.com/iss/history/engines/stock/markets/shares/securities/GAZP.json?start=600\n",
            "request to https://iss.moex.com/iss/history/engines/stock/markets/shares/securities/GAZP.json?start=700\n",
            "request to https://iss.moex.com/iss/history/engines/stock/markets/shares/securities/GAZP.json?start=800\n",
            "request to https://iss.moex.com/iss/history/engines/stock/markets/shares/securities/GAZP.json?start=900\n",
            "request to https://iss.moex.com/iss/history/engines/stock/markets/shares/securities/GAZP.json?start=1000\n",
            "request to https://iss.moex.com/iss/history/engines/stock/markets/shares/securities/GAZP.json?start=1100\n",
            "request to https://iss.moex.com/iss/history/engines/stock/markets/shares/securities/GAZP.json?start=1200\n",
            "request to https://iss.moex.com/iss/history/engines/stock/markets/shares/securities/GAZP.json?start=1300\n",
            "request to https://iss.moex.com/iss/history/engines/stock/markets/shares/securities/GAZP.json?start=1400\n",
            "request to https://iss.moex.com/iss/history/engines/stock/markets/shares/securities/GAZP.json?start=1500\n",
            "request to https://iss.moex.com/iss/history/engines/stock/markets/shares/securities/GAZP.json?start=1600\n",
            "request to https://iss.moex.com/iss/history/engines/stock/markets/shares/securities/GAZP.json?start=1700\n",
            "request to https://iss.moex.com/iss/history/engines/stock/markets/shares/securities/GAZP.json?start=1800\n",
            "request to https://iss.moex.com/iss/history/engines/stock/markets/shares/securities/GAZP.json?start=1900\n",
            "request to https://iss.moex.com/iss/history/engines/stock/markets/shares/securities/GAZP.json?start=2000\n",
            "request to https://iss.moex.com/iss/history/engines/stock/markets/shares/securities/GAZP.json?start=2100\n",
            "request to https://iss.moex.com/iss/history/engines/stock/markets/shares/securities/GAZP.json?start=2200\n",
            "request to https://iss.moex.com/iss/history/engines/stock/markets/shares/securities/GAZP.json?start=2300\n",
            "request to https://iss.moex.com/iss/history/engines/stock/markets/shares/securities/GAZP.json?start=2400\n",
            "request to https://iss.moex.com/iss/history/engines/stock/markets/shares/securities/GAZP.json?start=2500\n",
            "request to https://iss.moex.com/iss/history/engines/stock/markets/shares/securities/GAZP.json?start=2600\n",
            "request to https://iss.moex.com/iss/history/engines/stock/markets/shares/securities/GAZP.json?start=2700\n",
            "request to https://iss.moex.com/iss/history/engines/stock/markets/shares/securities/GAZP.json?start=2800\n",
            "request to https://iss.moex.com/iss/history/engines/stock/markets/shares/securities/GAZP.json?start=2900\n",
            "request to https://iss.moex.com/iss/history/engines/stock/markets/shares/securities/GAZP.json?start=3000\n",
            "request to https://iss.moex.com/iss/history/engines/stock/markets/shares/securities/GAZP.json?start=3100\n",
            "request to https://iss.moex.com/iss/history/engines/stock/markets/shares/securities/GAZP.json?start=3200\n",
            "request to https://iss.moex.com/iss/history/engines/stock/markets/shares/securities/GAZP.json?start=3300\n",
            "request to https://iss.moex.com/iss/history/engines/stock/markets/shares/securities/GAZP.json?start=3400\n",
            "request to https://iss.moex.com/iss/history/engines/stock/markets/shares/securities/GAZP.json?start=3500\n",
            "request to https://iss.moex.com/iss/history/engines/stock/markets/shares/securities/GAZP.json?start=3600\n",
            "request to https://iss.moex.com/iss/history/engines/stock/markets/shares/securities/GAZP.json?start=3700\n",
            "request to https://iss.moex.com/iss/history/engines/stock/markets/shares/securities/GAZP.json?start=3800\n",
            "request to https://iss.moex.com/iss/history/engines/stock/markets/shares/securities/GAZP.json?start=3900\n",
            "request to https://iss.moex.com/iss/history/engines/stock/markets/shares/securities/GAZP.json?start=4000\n",
            "request to https://iss.moex.com/iss/history/engines/stock/markets/shares/securities/GAZP.json?start=4100\n",
            "request to https://iss.moex.com/iss/history/engines/stock/markets/shares/securities/GAZP.json?start=4200\n",
            "request to https://iss.moex.com/iss/history/engines/stock/markets/shares/securities/GAZP.json?start=4300\n",
            "request to https://iss.moex.com/iss/history/engines/stock/markets/shares/securities/GAZP.json?start=4400\n",
            "request to https://iss.moex.com/iss/history/engines/stock/markets/shares/securities/GAZP.json?start=4500\n",
            "request to https://iss.moex.com/iss/history/engines/stock/markets/shares/securities/GAZP.json?start=4600\n",
            "request to https://iss.moex.com/iss/history/engines/stock/markets/shares/securities/GAZP.json?start=4700\n",
            "request to https://iss.moex.com/iss/history/engines/stock/markets/shares/securities/GAZP.json?start=4800\n",
            "request to https://iss.moex.com/iss/history/engines/stock/markets/shares/securities/GAZP.json?start=4900\n",
            "request to https://iss.moex.com/iss/history/engines/stock/markets/shares/securities/GAZP.json?start=5000\n",
            "request to https://iss.moex.com/iss/history/engines/stock/markets/shares/securities/GAZP.json?start=5100\n",
            "request to https://iss.moex.com/iss/history/engines/stock/markets/shares/securities/GAZP.json?start=5200\n",
            "request to https://iss.moex.com/iss/history/engines/stock/markets/shares/securities/GAZP.json?start=5300\n",
            "request to https://iss.moex.com/iss/history/engines/stock/markets/shares/securities/GAZP.json?start=5400\n",
            "request to https://iss.moex.com/iss/history/engines/stock/markets/shares/securities/GAZP.json?start=5500\n",
            "request to https://iss.moex.com/iss/history/engines/stock/markets/shares/securities/GAZP.json?start=5600\n",
            "request to https://iss.moex.com/iss/history/engines/stock/markets/shares/securities/GAZP.json?start=5700\n",
            "request to https://iss.moex.com/iss/history/engines/stock/markets/shares/securities/GAZP.json?start=5800\n",
            "request to https://iss.moex.com/iss/history/engines/stock/markets/shares/securities/GAZP.json?start=5900\n",
            "request to https://iss.moex.com/iss/history/engines/stock/markets/shares/securities/GAZP.json?start=6000\n",
            "request to https://iss.moex.com/iss/history/engines/stock/markets/shares/securities/GAZP.json?start=6100\n",
            "request to https://iss.moex.com/iss/history/engines/stock/markets/shares/securities/GAZP.json?start=6200\n",
            "request to https://iss.moex.com/iss/history/engines/stock/markets/shares/securities/GAZP.json?start=6300\n",
            "request to https://iss.moex.com/iss/history/engines/stock/markets/shares/securities/GAZP.json?start=6400\n",
            "request to https://iss.moex.com/iss/history/engines/stock/markets/shares/securities/GAZP.json?start=6500\n",
            "request to https://iss.moex.com/iss/history/engines/stock/markets/shares/securities/GAZP.json?start=6600\n",
            "request to https://iss.moex.com/iss/history/engines/stock/markets/shares/securities/GAZP.json?start=6700\n",
            "request to https://iss.moex.com/iss/history/engines/stock/markets/shares/securities/GAZP.json?start=6800\n",
            "request to https://iss.moex.com/iss/history/engines/stock/markets/shares/securities/GAZP.json?start=6900\n",
            "request to https://iss.moex.com/iss/history/engines/stock/markets/shares/securities/GAZP.json?start=7000\n",
            "request to https://iss.moex.com/iss/history/engines/stock/markets/shares/securities/GAZP.json?start=7100\n",
            "request to https://iss.moex.com/iss/history/engines/stock/markets/shares/securities/GAZP.json?start=7200\n",
            "request to https://iss.moex.com/iss/history/engines/stock/markets/shares/securities/GAZP.json?start=7300\n",
            "request to https://iss.moex.com/iss/history/engines/stock/markets/shares/securities/GAZP.json?start=7400\n",
            "request to https://iss.moex.com/iss/history/engines/stock/markets/shares/securities/GAZP.json?start=7500\n",
            "request to https://iss.moex.com/iss/history/engines/stock/markets/shares/securities/GAZP.json?start=7600\n",
            "request to https://iss.moex.com/iss/history/engines/stock/markets/shares/securities/GAZP.json?start=7700\n",
            "request to https://iss.moex.com/iss/history/engines/stock/markets/shares/securities/GAZP.json?start=7800\n",
            "request to https://iss.moex.com/iss/history/engines/stock/markets/shares/securities/GAZP.json?start=7900\n",
            "request to https://iss.moex.com/iss/history/engines/stock/markets/shares/securities/GAZP.json?start=8000\n",
            "request to https://iss.moex.com/iss/history/engines/stock/markets/shares/securities/GAZP.json?start=8100\n",
            "request to https://iss.moex.com/iss/history/engines/stock/markets/shares/securities/GAZP.json?start=8200\n",
            "request to https://iss.moex.com/iss/history/engines/stock/markets/shares/securities/GAZP.json?start=8300\n",
            "request to https://iss.moex.com/iss/history/engines/stock/markets/shares/securities/GAZP.json?start=8400\n",
            "request to https://iss.moex.com/iss/history/engines/stock/markets/shares/securities/GAZP.json?start=8500\n",
            "request to https://iss.moex.com/iss/history/engines/stock/markets/shares/securities/GAZP.json?start=8600\n",
            "request to https://iss.moex.com/iss/history/engines/stock/markets/shares/securities/GAZP.json?start=8700\n",
            "request to https://iss.moex.com/iss/history/engines/stock/markets/shares/securities/GAZP.json?start=8800\n",
            "request to https://iss.moex.com/iss/history/engines/stock/markets/shares/securities/GAZP.json?start=8900\n",
            "request to https://iss.moex.com/iss/history/engines/stock/markets/shares/securities/GAZP.json?start=9000\n",
            "request to https://iss.moex.com/iss/history/engines/stock/markets/shares/securities/GAZP.json?start=9100\n",
            "request to https://iss.moex.com/iss/history/engines/stock/markets/shares/securities/GAZP.json?start=9200\n",
            "request to https://iss.moex.com/iss/history/engines/stock/markets/shares/securities/GAZP.json?start=9300\n",
            "request to https://iss.moex.com/iss/history/engines/stock/markets/shares/securities/GAZP.json?start=9400\n",
            "request to https://iss.moex.com/iss/history/engines/stock/markets/shares/securities/GAZP.json?start=9500\n",
            "request to https://iss.moex.com/iss/history/engines/stock/markets/shares/securities/GAZP.json?start=9600\n",
            "request to https://iss.moex.com/iss/history/engines/stock/markets/shares/securities/GAZP.json?start=9700\n",
            "request to https://iss.moex.com/iss/history/engines/stock/markets/shares/securities/GAZP.json?start=9800\n",
            "request to https://iss.moex.com/iss/history/engines/stock/markets/shares/securities/GAZP.json?start=9900\n",
            "request to https://iss.moex.com/iss/history/engines/stock/markets/shares/securities/GAZP.json?start=10000\n",
            "request to https://iss.moex.com/iss/history/engines/stock/markets/shares/securities/GAZP.json?start=10100\n"
          ]
        }
      ]
    }
  ]
}